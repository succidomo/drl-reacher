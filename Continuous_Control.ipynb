{
 "cells": [
  {
   "cell_type": "markdown",
   "metadata": {},
   "source": [
    "# Continuous Control\n",
    "\n",
    "---\n",
    "\n",
    "In this notebook, you will learn how to use the Unity ML-Agents environment for the second project of the [Deep Reinforcement Learning Nanodegree](https://www.udacity.com/course/deep-reinforcement-learning-nanodegree--nd893) program.\n",
    "\n",
    "### 1. Start the Environment\n",
    "\n",
    "We begin by importing the necessary packages.  If the code cell below returns an error, please revisit the project instructions to double-check that you have installed [Unity ML-Agents](https://github.com/Unity-Technologies/ml-agents/blob/master/docs/Installation.md) and [NumPy](http://www.numpy.org/)."
   ]
  },
  {
   "cell_type": "code",
   "execution_count": 1,
   "metadata": {},
   "outputs": [],
   "source": [
    "from unityagents import UnityEnvironment\n",
    "import numpy as np\n",
    "#from cc_agent import Agent\n",
    "from ddpg_agent import Agent\n",
    "import numpy as np\n",
    "import matplotlib.pyplot as plt\n",
    "from collections import deque\n",
    "import torch"
   ]
  },
  {
   "cell_type": "code",
   "execution_count": 7,
   "metadata": {},
   "outputs": [],
   "source": [
    "try:\n",
    "    env.close()\n",
    "except:\n",
    "    pass"
   ]
  },
  {
   "cell_type": "markdown",
   "metadata": {},
   "source": [
    "Next, we will start the environment!  **_Before running the code cell below_**, change the `file_name` parameter to match the location of the Unity environment that you downloaded.\n",
    "\n",
    "- **Mac**: `\"path/to/Reacher.app\"`\n",
    "- **Windows** (x86): `\"path/to/Reacher_Windows_x86/Reacher.exe\"`\n",
    "- **Windows** (x86_64): `\"path/to/Reacher_Windows_x86_64/Reacher.exe\"`\n",
    "- **Linux** (x86): `\"path/to/Reacher_Linux/Reacher.x86\"`\n",
    "- **Linux** (x86_64): `\"path/to/Reacher_Linux/Reacher.x86_64\"`\n",
    "- **Linux** (x86, headless): `\"path/to/Reacher_Linux_NoVis/Reacher.x86\"`\n",
    "- **Linux** (x86_64, headless): `\"path/to/Reacher_Linux_NoVis/Reacher.x86_64\"`\n",
    "\n",
    "For instance, if you are using a Mac, then you downloaded `Reacher.app`.  If this file is in the same folder as the notebook, then the line below should appear as follows:\n",
    "```\n",
    "env = UnityEnvironment(file_name=\"Reacher.app\")\n",
    "```"
   ]
  },
  {
   "cell_type": "code",
   "execution_count": 2,
   "metadata": {},
   "outputs": [
    {
     "name": "stderr",
     "output_type": "stream",
     "text": [
      "INFO:unityagents:\n",
      "'Academy' started successfully!\n",
      "Unity Academy name: Academy\n",
      "        Number of Brains: 1\n",
      "        Number of External Brains : 1\n",
      "        Lesson number : 0\n",
      "        Reset Parameters :\n",
      "\t\tgoal_speed -> 1.0\n",
      "\t\tgoal_size -> 5.0\n",
      "Unity brain name: ReacherBrain\n",
      "        Number of Visual Observations (per agent): 0\n",
      "        Vector Observation space type: continuous\n",
      "        Vector Observation space size (per agent): 33\n",
      "        Number of stacked Vector Observation: 1\n",
      "        Vector Action space type: continuous\n",
      "        Vector Action space size (per agent): 4\n",
      "        Vector Action descriptions: , , , \n"
     ]
    }
   ],
   "source": [
    "env = UnityEnvironment(file_name='./Reacher_Windows_x86_64/Reacher.exe', no_graphics=False)"
   ]
  },
  {
   "cell_type": "markdown",
   "metadata": {},
   "source": [
    "Environments contain **_brains_** which are responsible for deciding the actions of their associated agents. Here we check for the first brain available, and set it as the default brain we will be controlling from Python."
   ]
  },
  {
   "cell_type": "code",
   "execution_count": 3,
   "metadata": {},
   "outputs": [],
   "source": [
    "# get the default brain\n",
    "brain_name = env.brain_names[0]\n",
    "brain = env.brains[brain_name]"
   ]
  },
  {
   "cell_type": "markdown",
   "metadata": {},
   "source": [
    "### 2. Examine the State and Action Spaces\n",
    "\n",
    "In this environment, a double-jointed arm can move to target locations. A reward of `+0.1` is provided for each step that the agent's hand is in the goal location. Thus, the goal of your agent is to maintain its position at the target location for as many time steps as possible.\n",
    "\n",
    "The observation space consists of `33` variables corresponding to position, rotation, velocity, and angular velocities of the arm.  Each action is a vector with four numbers, corresponding to torque applicable to two joints.  Every entry in the action vector must be a number between `-1` and `1`.\n",
    "\n",
    "Run the code cell below to print some information about the environment."
   ]
  },
  {
   "cell_type": "code",
   "execution_count": 4,
   "metadata": {},
   "outputs": [
    {
     "name": "stdout",
     "output_type": "stream",
     "text": [
      "Number of agents: 20\n",
      "Size of each action: 4\n",
      "There are 20 agents. Each observes a state with length: 33\n",
      "The state for the first agent looks like: [ 0.00000000e+00 -4.00000000e+00  0.00000000e+00  1.00000000e+00\n",
      " -0.00000000e+00 -0.00000000e+00 -4.37113883e-08  0.00000000e+00\n",
      "  0.00000000e+00  0.00000000e+00  0.00000000e+00  0.00000000e+00\n",
      "  0.00000000e+00  0.00000000e+00 -1.00000000e+01  0.00000000e+00\n",
      "  1.00000000e+00 -0.00000000e+00 -0.00000000e+00 -4.37113883e-08\n",
      "  0.00000000e+00  0.00000000e+00  0.00000000e+00  0.00000000e+00\n",
      "  0.00000000e+00  0.00000000e+00  5.75471878e+00 -1.00000000e+00\n",
      "  5.55726624e+00  0.00000000e+00  1.00000000e+00  0.00000000e+00\n",
      " -1.68164849e-01]\n"
     ]
    }
   ],
   "source": [
    "# reset the environment\n",
    "env_info = env.reset(train_mode=True)[brain_name]\n",
    "\n",
    "# number of agents\n",
    "num_agents = len(env_info.agents)\n",
    "print('Number of agents:', num_agents)\n",
    "\n",
    "# size of each action\n",
    "action_size = brain.vector_action_space_size\n",
    "print('Size of each action:', action_size)\n",
    "\n",
    "# examine the state space \n",
    "states = env_info.vector_observations\n",
    "state_size = states.shape[1]\n",
    "scores = np.zeros(len(env_info.agents))\n",
    "print('There are {} agents. Each observes a state with length: {}'.format(states.shape[0], state_size))\n",
    "print('The state for the first agent looks like:', states[0])\n",
    "\n",
    "agent = Agent(state_size=state_size, action_size=action_size, random_seed=0,num_agents=num_agents)\n"
   ]
  },
  {
   "cell_type": "markdown",
   "metadata": {},
   "source": [
    "### 3. Train the Agent with DDPG\n",
    "\n",
    "Agent trains using Actor Critic method.  "
   ]
  },
  {
   "cell_type": "code",
   "execution_count": 5,
   "metadata": {},
   "outputs": [
    {
     "name": "stderr",
     "output_type": "stream",
     "text": [
      "c:\\Users\\succi\\anaconda3\\envs\\drlnd\\lib\\site-packages\\torch\\nn\\functional.py:995: UserWarning: nn.functional.tanh is deprecated. Use torch.tanh instead.\n",
      "  warnings.warn(\"nn.functional.tanh is deprecated. Use torch.tanh instead.\")\n"
     ]
    },
    {
     "name": "stdout",
     "output_type": "stream",
     "text": [
      "Episode 5\tReward: 0.83\tAverage Reward: 0.76\n",
      "Episode 10\tReward: 3.10\tAverage Reward: 1.28\n",
      "Episode 15\tReward: 9.02\tAverage Reward: 2.63\n",
      "Episode 20\tReward: 27.72\tAverage Reward: 7.12\n",
      "Episode 25\tReward: 37.06\tAverage Reward: 12.88\n",
      "Episode 30\tReward: 38.06\tAverage Reward: 17.09\n",
      "Episode 35\tReward: 37.63\tAverage Reward: 20.09\n",
      "Episode 40\tReward: 36.36\tAverage Reward: 22.22\n",
      "Episode 45\tReward: 36.86\tAverage Reward: 23.78\n",
      "Episode 50\tReward: 37.29\tAverage Reward: 25.11\n",
      "Episode 55\tReward: 37.16\tAverage Reward: 26.21\n",
      "Episode 60\tReward: 38.02\tAverage Reward: 27.16\n",
      "Episode 65\tReward: 36.70\tAverage Reward: 27.89\n",
      "Episode 70\tReward: 37.77\tAverage Reward: 28.60\n",
      "Episode 75\tReward: 37.09\tAverage Reward: 29.16\n",
      "Episode 80\tReward: 37.10\tAverage Reward: 29.66\n",
      "Episode 85\tReward: 37.24\tAverage Reward: 30.12\n",
      "Episode 90\tReward: 36.31\tAverage Reward: 30.51\n",
      "Episode 95\tReward: 38.14\tAverage Reward: 30.88\n",
      "Episode 100\tReward: 35.35\tAverage Reward: 31.15\n",
      "Episode 105\tReward: 36.73\tAverage Reward: 32.95\n",
      "Episode 110\tReward: 37.30\tAverage Reward: 34.71\n",
      "Episode 115\tReward: 37.24\tAverage Reward: 36.27\n",
      "Episode 120\tReward: 37.25\tAverage Reward: 37.12\n",
      "\n",
      "\n",
      "Environment Solved in 20 episodes!\tAverage Reward: 37.12\n"
     ]
    },
    {
     "data": {
      "image/png": "[encoded data removed]",
      "text/plain": [
       "<Figure size 432x288 with 1 Axes>"
      ]
     },
     "metadata": {
      "needs_background": "light"
     },
     "output_type": "display_data"
    }
   ],
   "source": [
    "def ddpg(n_episodes=1000, print_every=100):\n",
    "    scores_deque = deque(maxlen=print_every)\n",
    "    scores = []\n",
    "    agent_scores = []\n",
    "    for i_episode in (range(1, n_episodes+1)):\n",
    "        env_info = env.reset(train_mode=True)[brain_name]\n",
    "        state = env_info.vector_observations\n",
    "        agent.reset()\n",
    "        score = 0.\n",
    "        individual_scores = np.zeros(num_agents)\n",
    "        while True:\n",
    "            action = agent.act(state)\n",
    "            env_info = env.step(action)[brain_name]\n",
    "            next_state = env_info.vector_observations\n",
    "            reward = env_info.rewards\n",
    "            done = env_info.local_done\n",
    "            agent.step(state, action, reward, next_state, done)\n",
    "            state = next_state\n",
    "            score += np.mean(reward)\n",
    "            individual_scores += reward\n",
    "            if np.any(done):\n",
    "                break \n",
    "        scores_deque.append(score)\n",
    "        scores.append(score)\n",
    "        agent_scores.append(individual_scores)\n",
    "        print('\\rEpisode {}\\tReward: {:.2f}\\tAverage Reward: {:.2f}'.format(i_episode, score, np.mean(scores_deque)), end=\"\")\n",
    "        \n",
    "        if i_episode % 5 == 0:\n",
    "            print('\\rEpisode {}\\tReward: {:.2f}\\tAverage Reward: {:.2f}'.format(i_episode, score, np.mean(scores_deque)))\n",
    "        \n",
    "        if sum(np.array(scores_deque)>=30)>=100:\n",
    "            print('\\n\\nEnvironment Solved in {:d} episodes!\\tAverage Reward: {:.2f}'.format(i_episode-100,\n",
    "                                                                                          np.mean(scores_deque)))\n",
    "            torch.save(agent.actor_local.state_dict(), 'checkpoint_actor2.pth')\n",
    "            torch.save(agent.critic_local.state_dict(), 'checkpoint_critic2.pth')\n",
    "            break\n",
    "            \n",
    "    return scores, agent_scores\n",
    "\n",
    "def plot_scores(scores, window=100, solved_score=30.0, savepath=None):\n",
    "    \"\"\"\n",
    "    Plot per-episode scores and a moving average.\n",
    "    Args:\n",
    "        scores (list[float]): one score per episode\n",
    "        window (int): moving-average window (Udacity uses 100)\n",
    "        solved_score (float): horizontal reference line (30 for Reacher)\n",
    "        savepath (str|None): if set, saves the figure to this path\n",
    "    \"\"\"\n",
    "    scores = np.asarray(scores, dtype=float)\n",
    "    episodes = np.arange(1, len(scores) + 1)\n",
    "\n",
    "    # moving average (uses cumulative average if fewer than window points)\n",
    "    if len(scores) >= window:\n",
    "        ma = np.convolve(scores, np.ones(window)/window, mode='valid')\n",
    "        ma_x = np.arange(window, len(scores) + 1)\n",
    "    else:\n",
    "        ma = np.cumsum(scores) / episodes\n",
    "        ma_x = episodes\n",
    "\n",
    "    fig, ax = plt.subplots()\n",
    "    ax.plot(episodes, scores, label=\"Score per episode\")\n",
    "    ax.plot(ma_x, ma, label=(f\"Moving avg ({window})\" if len(scores) >= window else \"Cumulative avg\"))\n",
    "    ax.set_xlabel(\"Episode\")\n",
    "    ax.set_ylabel(\"Score\")\n",
    "    ax.set_title(\"Training performance\")\n",
    "    ax.legend(loc=\"best\")\n",
    "    if solved_score is not None:\n",
    "        ax.axhline(solved_score, linestyle=\"--\", linewidth=1)\n",
    "    if savepath:\n",
    "        fig.savefig(savepath, dpi=150, bbox_inches=\"tight\")\n",
    "    plt.show()\n",
    "\n",
    "scores, agent_scores = ddpg()\n",
    "\n",
    "plot_scores(scores, window=100, solved_score=30.0, savepath=\"reacher_scores.png\")\n"
   ]
  },
  {
   "cell_type": "markdown",
   "metadata": {},
   "source": [
    "When finished, you can close the environment."
   ]
  },
  {
   "cell_type": "markdown",
   "metadata": {},
   "source": [
    "### 4. Run the trained agent in reacher environment\n"
   ]
  },
  {
   "cell_type": "code",
   "execution_count": 5,
   "metadata": {},
   "outputs": [
    {
     "name": "stderr",
     "output_type": "stream",
     "text": [
      "c:\\Users\\succi\\anaconda3\\envs\\drlnd\\lib\\site-packages\\torch\\nn\\functional.py:995: UserWarning: nn.functional.tanh is deprecated. Use torch.tanh instead.\n",
      "  warnings.warn(\"nn.functional.tanh is deprecated. Use torch.tanh instead.\")\n"
     ]
    },
    {
     "name": "stdout",
     "output_type": "stream",
     "text": [
      "Episode score: 0.00\n"
     ]
    }
   ],
   "source": [
    "device = torch.device(\"cuda:0\" if torch.cuda.is_available() else \"cpu\")\n",
    "agent.actor_local.load_state_dict(torch.load('checkpoint_actor2.pth', map_location=device))\n",
    "agent.actor_local.eval()\n",
    "\n",
    "env_info = env.reset(train_mode=False)[brain_name]\n",
    "state    = env_info.vector_observations        # (state_size,)\n",
    "score    = 0.0\n",
    "\n",
    "for t in range(1000):\n",
    "    action   = agent.act(state, add_noise=False)    # (action_size,)\n",
    "    env_info = env.step(action.reshape(1, -1))[brain_name]\n",
    "    next_state = env_info.vector_observations\n",
    "\n",
    "    done       = env_info.local_done\n",
    "\n",
    "    state = next_state\n",
    "    if np.any(done):\n",
    "        break\n",
    "\n",
    "print(f\"Episode score: {score:.2f}\")\n",
    "env.close()"
   ]
  }
 ],
 "metadata": {
  "kernelspec": {
   "display_name": "drlnd",
   "language": "python",
   "name": "drlnd"
  },
  "language_info": {
   "codemirror_mode": {
    "name": "ipython",
    "version": 3
   },
   "file_extension": ".py",
   "mimetype": "text/x-python",
   "name": "python",
   "nbconvert_exporter": "python",
   "pygments_lexer": "ipython3",
   "version": "3.6.13"
  }
 },
 "nbformat": 4,
 "nbformat_minor": 2
}
